version https://git-lfs.github.com/spec/v1
oid sha256:e9a92a958036fcda07504156863f70d2a2fd481459daa5365609a879e28967c7
size 319463
